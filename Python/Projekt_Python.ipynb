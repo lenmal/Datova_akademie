{
  "nbformat": 4,
  "nbformat_minor": 0,
  "metadata": {
    "colab": {
      "name": "Projekt Python.ipynb",
      "provenance": [],
      "authorship_tag": "ABX9TyMsC2AdOmYqUCgvsY/gCMVJ",
      "include_colab_link": true
    },
    "kernelspec": {
      "name": "python3",
      "display_name": "Python 3"
    },
    "language_info": {
      "name": "python"
    }
  },
  "cells": [
    {
      "cell_type": "markdown",
      "metadata": {
        "id": "view-in-github",
        "colab_type": "text"
      },
      "source": [
        "<a href=\"https://colab.research.google.com/github/lenmal/Datova_akademie/blob/Main/Python/Projekt_Python.ipynb\" target=\"_parent\"><img src=\"https://colab.research.google.com/assets/colab-badge.svg\" alt=\"Open In Colab\"/></a>"
      ]
    },
    {
      "cell_type": "code",
      "metadata": {
        "colab": {
          "base_uri": "https://localhost:8080/"
        },
        "id": "8Tuy9sWg8nuY",
        "outputId": "a62992b7-be71-48b2-d3f9-c1ec9526b5c8"
      },
      "source": [
        "!pip install pymysql\n",
        "import pandas as pd\n",
        "import sqlalchemy as sql\n",
        "\n",
        "conn_string=\"mysql+pymysql://student:p7@vw7MCatmnKjy7@data.engeto.com/data\"\n",
        "alchemy_conn=sql.create_engine(conn_string)\n",
        "\n"
      ],
      "execution_count": 3,
      "outputs": [
        {
          "output_type": "stream",
          "text": [
            "Requirement already satisfied: pymysql in /usr/local/lib/python3.7/dist-packages (1.0.2)\n"
          ],
          "name": "stdout"
        }
      ]
    },
    {
      "cell_type": "code",
      "metadata": {
        "colab": {
          "base_uri": "https://localhost:8080/",
          "height": 394
        },
        "id": "zGqONe8x_mo3",
        "outputId": "9ca54a1f-4323-44c1-cc86-7bae3b64ba0f"
      },
      "source": [
        "query = \"select * from edinburgh_bikes\"\n",
        "edinbikes_df = pd.read_sql(query, alchemy_conn)\n",
        "edinbikes_df.head(5)"
      ],
      "execution_count": 14,
      "outputs": [
        {
          "output_type": "execute_result",
          "data": {
            "text/html": [
              "<div>\n",
              "<style scoped>\n",
              "    .dataframe tbody tr th:only-of-type {\n",
              "        vertical-align: middle;\n",
              "    }\n",
              "\n",
              "    .dataframe tbody tr th {\n",
              "        vertical-align: top;\n",
              "    }\n",
              "\n",
              "    .dataframe thead th {\n",
              "        text-align: right;\n",
              "    }\n",
              "</style>\n",
              "<table border=\"1\" class=\"dataframe\">\n",
              "  <thead>\n",
              "    <tr style=\"text-align: right;\">\n",
              "      <th></th>\n",
              "      <th>index</th>\n",
              "      <th>started_at</th>\n",
              "      <th>ended_at</th>\n",
              "      <th>duration</th>\n",
              "      <th>start_station_id</th>\n",
              "      <th>start_station_name</th>\n",
              "      <th>start_station_description</th>\n",
              "      <th>start_station_latitude</th>\n",
              "      <th>start_station_longitude</th>\n",
              "      <th>end_station_id</th>\n",
              "      <th>end_station_name</th>\n",
              "      <th>end_station_description</th>\n",
              "      <th>end_station_latitude</th>\n",
              "      <th>end_station_longitude</th>\n",
              "    </tr>\n",
              "  </thead>\n",
              "  <tbody>\n",
              "    <tr>\n",
              "      <th>0</th>\n",
              "      <td>0</td>\n",
              "      <td>2018-09-15 08:52:05</td>\n",
              "      <td>2018-09-15 09:11:48</td>\n",
              "      <td>1182</td>\n",
              "      <td>247</td>\n",
              "      <td>Charlotte Square</td>\n",
              "      <td>North Corner of Charlotte Square</td>\n",
              "      <td>55.952335</td>\n",
              "      <td>-3.207101</td>\n",
              "      <td>259</td>\n",
              "      <td>St Andrew Square</td>\n",
              "      <td>North East corner</td>\n",
              "      <td>55.954728</td>\n",
              "      <td>-3.192653</td>\n",
              "    </tr>\n",
              "    <tr>\n",
              "      <th>1</th>\n",
              "      <td>1</td>\n",
              "      <td>2018-09-15 09:24:33</td>\n",
              "      <td>2018-09-15 09:41:09</td>\n",
              "      <td>995</td>\n",
              "      <td>259</td>\n",
              "      <td>St Andrew Square</td>\n",
              "      <td>North East corner</td>\n",
              "      <td>55.954749</td>\n",
              "      <td>-3.192774</td>\n",
              "      <td>262</td>\n",
              "      <td>Canonmills</td>\n",
              "      <td>near Tesco's</td>\n",
              "      <td>55.962804</td>\n",
              "      <td>-3.196284</td>\n",
              "    </tr>\n",
              "    <tr>\n",
              "      <th>2</th>\n",
              "      <td>2</td>\n",
              "      <td>2018-09-15 09:48:54</td>\n",
              "      <td>2018-09-15 10:46:40</td>\n",
              "      <td>3466</td>\n",
              "      <td>262</td>\n",
              "      <td>Canonmills</td>\n",
              "      <td>near Tesco's</td>\n",
              "      <td>55.962804</td>\n",
              "      <td>-3.196284</td>\n",
              "      <td>250</td>\n",
              "      <td>Victoria Quay</td>\n",
              "      <td>Entrance to Scottish Government Office</td>\n",
              "      <td>55.977638</td>\n",
              "      <td>-3.174116</td>\n",
              "    </tr>\n",
              "    <tr>\n",
              "      <th>3</th>\n",
              "      <td>3</td>\n",
              "      <td>2018-09-16 12:01:36</td>\n",
              "      <td>2018-09-16 12:25:26</td>\n",
              "      <td>1430</td>\n",
              "      <td>255</td>\n",
              "      <td>Kings Buildings 4</td>\n",
              "      <td>X-Y Cafe</td>\n",
              "      <td>55.922001</td>\n",
              "      <td>-3.176902</td>\n",
              "      <td>254</td>\n",
              "      <td>Kings Building 3</td>\n",
              "      <td>Kings Building House</td>\n",
              "      <td>55.923479</td>\n",
              "      <td>-3.175385</td>\n",
              "    </tr>\n",
              "    <tr>\n",
              "      <th>4</th>\n",
              "      <td>4</td>\n",
              "      <td>2018-09-16 12:03:43</td>\n",
              "      <td>2018-09-16 12:11:16</td>\n",
              "      <td>452</td>\n",
              "      <td>255</td>\n",
              "      <td>Kings Buildings 4</td>\n",
              "      <td>X-Y Cafe</td>\n",
              "      <td>55.922001</td>\n",
              "      <td>-3.176902</td>\n",
              "      <td>253</td>\n",
              "      <td>Kings Building 2</td>\n",
              "      <td>Sanderson Building</td>\n",
              "      <td>55.923202</td>\n",
              "      <td>-3.171646</td>\n",
              "    </tr>\n",
              "  </tbody>\n",
              "</table>\n",
              "</div>"
            ],
            "text/plain": [
              "   index          started_at  ... end_station_latitude  end_station_longitude\n",
              "0      0 2018-09-15 08:52:05  ...            55.954728              -3.192653\n",
              "1      1 2018-09-15 09:24:33  ...            55.962804              -3.196284\n",
              "2      2 2018-09-15 09:48:54  ...            55.977638              -3.174116\n",
              "3      3 2018-09-16 12:01:36  ...            55.923479              -3.175385\n",
              "4      4 2018-09-16 12:03:43  ...            55.923202              -3.171646\n",
              "\n",
              "[5 rows x 14 columns]"
            ]
          },
          "metadata": {
            "tags": []
          },
          "execution_count": 14
        }
      ]
    },
    {
      "cell_type": "code",
      "metadata": {
        "colab": {
          "base_uri": "https://localhost:8080/"
        },
        "id": "JYllUN7n_rm5",
        "outputId": "06914a6d-5f36-4c17-9442-293e097a9534"
      },
      "source": [
        "edinbikes_df.info()"
      ],
      "execution_count": 13,
      "outputs": [
        {
          "output_type": "stream",
          "text": [
            "<class 'pandas.core.frame.DataFrame'>\n",
            "RangeIndex: 340986 entries, 0 to 340985\n",
            "Data columns (total 14 columns):\n",
            " #   Column                     Non-Null Count   Dtype         \n",
            "---  ------                     --------------   -----         \n",
            " 0   index                      340986 non-null  int64         \n",
            " 1   started_at                 340986 non-null  datetime64[ns]\n",
            " 2   ended_at                   340986 non-null  datetime64[ns]\n",
            " 3   duration                   340986 non-null  int64         \n",
            " 4   start_station_id           340986 non-null  int64         \n",
            " 5   start_station_name         340986 non-null  object        \n",
            " 6   start_station_description  338612 non-null  object        \n",
            " 7   start_station_latitude     340986 non-null  float64       \n",
            " 8   start_station_longitude    340986 non-null  float64       \n",
            " 9   end_station_id             340986 non-null  int64         \n",
            " 10  end_station_name           340986 non-null  object        \n",
            " 11  end_station_description    338426 non-null  object        \n",
            " 12  end_station_latitude       340986 non-null  float64       \n",
            " 13  end_station_longitude      340986 non-null  float64       \n",
            "dtypes: datetime64[ns](2), float64(4), int64(4), object(4)\n",
            "memory usage: 36.4+ MB\n"
          ],
          "name": "stdout"
        }
      ]
    }
  ]
}